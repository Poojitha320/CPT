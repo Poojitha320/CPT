{
 "cells": [
  {
   "cell_type": "code",
   "execution_count": 1,
   "id": "a23796f6",
   "metadata": {},
   "outputs": [
    {
     "name": "stdout",
     "output_type": "stream",
     "text": [
      "10\n",
      "100\n"
     ]
    }
   ],
   "source": [
    "#scope and lifetime of args in a function\n",
    "num=10\n",
    "print(num)\n",
    "def modify():\n",
    "    global num\n",
    "    num=100\n",
    "modify()\n",
    "print(num)\n"
   ]
  },
  {
   "cell_type": "code",
   "execution_count": 6,
   "id": "8d704862",
   "metadata": {},
   "outputs": [
    {
     "name": "stdout",
     "output_type": "stream",
     "text": [
      "Initial state:False\n",
      "state after first toggle: True\n",
      "state after second toggle:False\n"
     ]
    }
   ],
   "source": [
    "#toggle state function\n",
    "is_active=False\n",
    "def toggle_state():\n",
    "    global is_active\n",
    "    is_active = not is_active\n",
    "    return is_active\n",
    "print(f\"Initial state:{is_active}\")\n",
    "toggle_state()\n",
    "print(f\"state after first toggle: {is_active}\")\n",
    "toggle_state()\n",
    "print(f\"state after second toggle:{is_active}\")\n"
   ]
  },
  {
   "cell_type": "code",
   "execution_count": 6,
   "id": "be98edda",
   "metadata": {},
   "outputs": [
    {
     "name": "stdout",
     "output_type": "stream",
     "text": [
      "7\n"
     ]
    }
   ],
   "source": [
    "#annotations -->checks if static or not \n",
    "#syntax: def sample(a:int, b:int)->int:\n",
    "\n",
    "def add(a:int, b:int)->int:\n",
    "    return a+b\n",
    "#a=int(input(\"enter a:\"))\n",
    "#b=int(input(\"enter b:\"))\n",
    "print(add(2,5))"
   ]
  }
 ],
 "metadata": {
  "kernelspec": {
   "display_name": "Python 3",
   "language": "python",
   "name": "python3"
  },
  "language_info": {
   "codemirror_mode": {
    "name": "ipython",
    "version": 3
   },
   "file_extension": ".py",
   "mimetype": "text/x-python",
   "name": "python",
   "nbconvert_exporter": "python",
   "pygments_lexer": "ipython3",
   "version": "3.12.0"
  }
 },
 "nbformat": 4,
 "nbformat_minor": 5
}
